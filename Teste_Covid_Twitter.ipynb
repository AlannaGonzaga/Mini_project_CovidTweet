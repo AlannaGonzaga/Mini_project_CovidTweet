{
  "nbformat": 4,
  "nbformat_minor": 0,
  "metadata": {
    "colab": {
      "name": "Teste_Covid_Twitter.ipynb",
      "provenance": [],
      "collapsed_sections": [],
      "include_colab_link": true
    },
    "kernelspec": {
      "name": "python3",
      "display_name": "Python 3"
    },
    "language_info": {
      "name": "python"
    }
  },
  "cells": [
    {
      "cell_type": "markdown",
      "metadata": {
        "id": "view-in-github",
        "colab_type": "text"
      },
      "source": [
        "<a href=\"https://colab.research.google.com/github/AlannaGonzaga/Mini_project_CovidTweet/blob/main/Teste_Covid_Twitter.ipynb\" target=\"_parent\"><img src=\"https://colab.research.google.com/assets/colab-badge.svg\" alt=\"Open In Colab\"/></a>"
      ]
    },
    {
      "cell_type": "markdown",
      "metadata": {
        "id": "6EW9AzjQMccn"
      },
      "source": [
        "#### **Teste para vaga de Cientista de Dados Junior**\n"
      ]
    },
    {
      "cell_type": "markdown",
      "metadata": {
        "id": "nnLdyI4kM9v_"
      },
      "source": [
        "# A Ciência da Informação e a COVID-19: análise de sentimentos no Twitter"
      ]
    },
    {
      "cell_type": "markdown",
      "metadata": {
        "id": "u7YSqzNd3RQZ"
      },
      "source": [
        "<center><img alt=\"Analisando Airbnb\"  src=\"https://ipullrank.com/wp-content/uploads/2017/04/sentiment-analysis-tools-1400.jpg\"></center>"
      ]
    },
    {
      "cell_type": "markdown",
      "metadata": {
        "id": "9jOvHpPfWKDF"
      },
      "source": [
        "Esse projeto refere-se a análise exploratória com abordagem quantitativa e com o objetivo de observar os níveis de polaridade sentimental dos usuários do Twitter diante do COVID-19. \n",
        "\n",
        "Basicamente é a apresentação técnica na qual um algoritmo toma como entrada de dados, neste caso, o post de pessoas que inseriram seus sentimentos como positivo, negativo ou neutro. Em linhas gerais, é descobrir o humor do público sobre um determinado assunto, que no caso desse projeto, a palavra escolhida foi o covid.\n",
        "\n",
        "Foi utilizada a linguagem em python para aplicar as técnicas de Mineração de Textos, tratamento, estrutura e análise. Essa construção foi feita a partir de um arquivo.zip denominado covid_tweets.\n",
        "\n"
      ]
    },
    {
      "cell_type": "code",
      "metadata": {
        "id": "sT5XKSbNNDO4"
      },
      "source": [
        "# Importando os pacotes necessários\n",
        "\n",
        "import pandas as pd\n",
        "import matplotlib.pyplot as plt\n",
        "import seaborn as sns\n",
        "import nltk\n"
      ],
      "execution_count": null,
      "outputs": []
    },
    {
      "cell_type": "code",
      "metadata": {
        "id": "ns6z4aojNO8d"
      },
      "source": [
        "# Importar o dataset covid_tweet para um Dataframe \n",
        "\n",
        "dados = pd.read_csv('covid_tweets.csv', engine= 'python')\n"
      ],
      "execution_count": null,
      "outputs": []
    },
    {
      "cell_type": "markdown",
      "metadata": {
        "id": "0CUUysbL8g2d"
      },
      "source": [
        "Foi preciso utilizar a solução para a leitura da codificação de caracteres no arquivo csv. Por isso utilizamos a solução engine = 'python' na chamada da função read_csv."
      ]
    },
    {
      "cell_type": "code",
      "metadata": {
        "id": "CM-qmZ5bcpj5",
        "colab": {
          "base_uri": "https://localhost:8080/",
          "height": 202
        },
        "outputId": "e7eba272-de1c-4a9a-e912-a409a0ccb355"
      },
      "source": [
        "# Visualização das cinco primeiras linhas do Dataset \n",
        "dados.head()"
      ],
      "execution_count": null,
      "outputs": [
        {
          "output_type": "execute_result",
          "data": {
            "text/html": [
              "<div>\n",
              "<style scoped>\n",
              "    .dataframe tbody tr th:only-of-type {\n",
              "        vertical-align: middle;\n",
              "    }\n",
              "\n",
              "    .dataframe tbody tr th {\n",
              "        vertical-align: top;\n",
              "    }\n",
              "\n",
              "    .dataframe thead th {\n",
              "        text-align: right;\n",
              "    }\n",
              "</style>\n",
              "<table border=\"1\" class=\"dataframe\">\n",
              "  <thead>\n",
              "    <tr style=\"text-align: right;\">\n",
              "      <th></th>\n",
              "      <th>UserName</th>\n",
              "      <th>ScreenName</th>\n",
              "      <th>Location</th>\n",
              "      <th>TweetAt</th>\n",
              "      <th>OriginalTweet</th>\n",
              "      <th>Sentiment</th>\n",
              "    </tr>\n",
              "  </thead>\n",
              "  <tbody>\n",
              "    <tr>\n",
              "      <th>0</th>\n",
              "      <td>3799</td>\n",
              "      <td>48751</td>\n",
              "      <td>London</td>\n",
              "      <td>16-03-2020</td>\n",
              "      <td>@MeNyrbie @Phil_Gahan @Chrisitv https://t.co/i...</td>\n",
              "      <td>Neutral</td>\n",
              "    </tr>\n",
              "    <tr>\n",
              "      <th>1</th>\n",
              "      <td>3800</td>\n",
              "      <td>48752</td>\n",
              "      <td>UK</td>\n",
              "      <td>16-03-2020</td>\n",
              "      <td>advice Talk to your neighbours family to excha...</td>\n",
              "      <td>Positive</td>\n",
              "    </tr>\n",
              "    <tr>\n",
              "      <th>2</th>\n",
              "      <td>3801</td>\n",
              "      <td>48753</td>\n",
              "      <td>Vagabonds</td>\n",
              "      <td>16-03-2020</td>\n",
              "      <td>Coronavirus Australia: Woolworths to give elde...</td>\n",
              "      <td>Positive</td>\n",
              "    </tr>\n",
              "    <tr>\n",
              "      <th>3</th>\n",
              "      <td>3802</td>\n",
              "      <td>48754</td>\n",
              "      <td>NaN</td>\n",
              "      <td>16-03-2020</td>\n",
              "      <td>My food stock is not the only one which is emp...</td>\n",
              "      <td>Positive</td>\n",
              "    </tr>\n",
              "    <tr>\n",
              "      <th>4</th>\n",
              "      <td>3803</td>\n",
              "      <td>48755</td>\n",
              "      <td>NaN</td>\n",
              "      <td>16-03-2020</td>\n",
              "      <td>Me, ready to go at supermarket during the #COV...</td>\n",
              "      <td>Extremely Negative</td>\n",
              "    </tr>\n",
              "  </tbody>\n",
              "</table>\n",
              "</div>"
            ],
            "text/plain": [
              "   UserName  ...           Sentiment\n",
              "0      3799  ...             Neutral\n",
              "1      3800  ...            Positive\n",
              "2      3801  ...            Positive\n",
              "3      3802  ...            Positive\n",
              "4      3803  ...  Extremely Negative\n",
              "\n",
              "[5 rows x 6 columns]"
            ]
          },
          "metadata": {},
          "execution_count": 198
        }
      ]
    },
    {
      "cell_type": "code",
      "metadata": {
        "colab": {
          "base_uri": "https://localhost:8080/"
        },
        "id": "AIaFbbIuYhlq",
        "outputId": "8ed9e202-afcf-42ce-c59d-78447762a46a"
      },
      "source": [
        "dados.OriginalTweet.count()"
      ],
      "execution_count": null,
      "outputs": [
        {
          "output_type": "execute_result",
          "data": {
            "text/plain": [
              "41157"
            ]
          },
          "metadata": {},
          "execution_count": 199
        }
      ]
    },
    {
      "cell_type": "markdown",
      "metadata": {
        "id": "QgIjHmtQA6yO"
      },
      "source": [
        "Total de Entradas no Dataset foi de 41.157 tweets"
      ]
    },
    {
      "cell_type": "code",
      "metadata": {
        "id": "AFdKStgmcygC",
        "colab": {
          "base_uri": "https://localhost:8080/"
        },
        "outputId": "dfbcfdce-eefc-454b-f2d7-0f8b5d7338bc"
      },
      "source": [
        "# Resumo geral do Dataset\n",
        "print('Este dataset contém:')\n",
        "print('{:,} entradas'.format(dados.shape[0]).replace(',','.'))\n",
        "print('{} Variáveis'.format(dados.shape[1]))"
      ],
      "execution_count": null,
      "outputs": [
        {
          "output_type": "stream",
          "name": "stdout",
          "text": [
            "Este dataset contém:\n",
            "41.157 entradas\n",
            "6 Variáveis\n"
          ]
        }
      ]
    },
    {
      "cell_type": "code",
      "metadata": {
        "id": "xTItQ5JVc8yU",
        "colab": {
          "base_uri": "https://localhost:8080/",
          "height": 35
        },
        "outputId": "92243698-c1f5-4989-b7ab-1e4c30a567ee"
      },
      "source": [
        "# Verificando a ultima data do Dataset\n",
        "max = dados.TweetAt.max()\n",
        "max"
      ],
      "execution_count": null,
      "outputs": [
        {
          "output_type": "execute_result",
          "data": {
            "application/vnd.google.colaboratory.intrinsic+json": {
              "type": "string"
            },
            "text/plain": [
              "'31-03-2020'"
            ]
          },
          "metadata": {},
          "execution_count": 201
        }
      ]
    },
    {
      "cell_type": "code",
      "metadata": {
        "id": "ONJewF37dJi6",
        "colab": {
          "base_uri": "https://localhost:8080/"
        },
        "outputId": "c443afab-c7d3-45c9-f696-21193bf4bc08"
      },
      "source": [
        "# Nomes das colunas no Dataset\n",
        "dados.columns"
      ],
      "execution_count": null,
      "outputs": [
        {
          "output_type": "execute_result",
          "data": {
            "text/plain": [
              "Index(['UserName', 'ScreenName', 'Location', 'TweetAt', 'OriginalTweet',\n",
              "       'Sentiment'],\n",
              "      dtype='object')"
            ]
          },
          "metadata": {},
          "execution_count": 202
        }
      ]
    },
    {
      "cell_type": "code",
      "metadata": {
        "id": "qwaXGpRwdWZZ",
        "colab": {
          "base_uri": "https://localhost:8080/",
          "height": 232
        },
        "outputId": "47c03906-7e7b-4735-cc67-b3e72952c745"
      },
      "source": [
        "# Tipos de variáveis no Dataset\n",
        "pd.DataFrame(dados.dtypes, columns=['Tipo de Dados'])"
      ],
      "execution_count": null,
      "outputs": [
        {
          "output_type": "execute_result",
          "data": {
            "text/html": [
              "<div>\n",
              "<style scoped>\n",
              "    .dataframe tbody tr th:only-of-type {\n",
              "        vertical-align: middle;\n",
              "    }\n",
              "\n",
              "    .dataframe tbody tr th {\n",
              "        vertical-align: top;\n",
              "    }\n",
              "\n",
              "    .dataframe thead th {\n",
              "        text-align: right;\n",
              "    }\n",
              "</style>\n",
              "<table border=\"1\" class=\"dataframe\">\n",
              "  <thead>\n",
              "    <tr style=\"text-align: right;\">\n",
              "      <th></th>\n",
              "      <th>Tipo de Dados</th>\n",
              "    </tr>\n",
              "  </thead>\n",
              "  <tbody>\n",
              "    <tr>\n",
              "      <th>UserName</th>\n",
              "      <td>int64</td>\n",
              "    </tr>\n",
              "    <tr>\n",
              "      <th>ScreenName</th>\n",
              "      <td>int64</td>\n",
              "    </tr>\n",
              "    <tr>\n",
              "      <th>Location</th>\n",
              "      <td>object</td>\n",
              "    </tr>\n",
              "    <tr>\n",
              "      <th>TweetAt</th>\n",
              "      <td>object</td>\n",
              "    </tr>\n",
              "    <tr>\n",
              "      <th>OriginalTweet</th>\n",
              "      <td>object</td>\n",
              "    </tr>\n",
              "    <tr>\n",
              "      <th>Sentiment</th>\n",
              "      <td>object</td>\n",
              "    </tr>\n",
              "  </tbody>\n",
              "</table>\n",
              "</div>"
            ],
            "text/plain": [
              "              Tipo de Dados\n",
              "UserName              int64\n",
              "ScreenName            int64\n",
              "Location             object\n",
              "TweetAt              object\n",
              "OriginalTweet        object\n",
              "Sentiment            object"
            ]
          },
          "metadata": {},
          "execution_count": 203
        }
      ]
    },
    {
      "cell_type": "code",
      "metadata": {
        "colab": {
          "base_uri": "https://localhost:8080/",
          "height": 202
        },
        "id": "FEI_F-sbAc0A",
        "outputId": "00d6f680-7fbd-494b-973e-02b8bd1be8a6"
      },
      "source": [
        "dados.head()"
      ],
      "execution_count": null,
      "outputs": [
        {
          "output_type": "execute_result",
          "data": {
            "text/html": [
              "<div>\n",
              "<style scoped>\n",
              "    .dataframe tbody tr th:only-of-type {\n",
              "        vertical-align: middle;\n",
              "    }\n",
              "\n",
              "    .dataframe tbody tr th {\n",
              "        vertical-align: top;\n",
              "    }\n",
              "\n",
              "    .dataframe thead th {\n",
              "        text-align: right;\n",
              "    }\n",
              "</style>\n",
              "<table border=\"1\" class=\"dataframe\">\n",
              "  <thead>\n",
              "    <tr style=\"text-align: right;\">\n",
              "      <th></th>\n",
              "      <th>UserName</th>\n",
              "      <th>ScreenName</th>\n",
              "      <th>Location</th>\n",
              "      <th>TweetAt</th>\n",
              "      <th>OriginalTweet</th>\n",
              "      <th>Sentiment</th>\n",
              "    </tr>\n",
              "  </thead>\n",
              "  <tbody>\n",
              "    <tr>\n",
              "      <th>0</th>\n",
              "      <td>3799</td>\n",
              "      <td>48751</td>\n",
              "      <td>London</td>\n",
              "      <td>16-03-2020</td>\n",
              "      <td>@MeNyrbie @Phil_Gahan @Chrisitv https://t.co/i...</td>\n",
              "      <td>Neutral</td>\n",
              "    </tr>\n",
              "    <tr>\n",
              "      <th>1</th>\n",
              "      <td>3800</td>\n",
              "      <td>48752</td>\n",
              "      <td>UK</td>\n",
              "      <td>16-03-2020</td>\n",
              "      <td>advice Talk to your neighbours family to excha...</td>\n",
              "      <td>Positive</td>\n",
              "    </tr>\n",
              "    <tr>\n",
              "      <th>2</th>\n",
              "      <td>3801</td>\n",
              "      <td>48753</td>\n",
              "      <td>Vagabonds</td>\n",
              "      <td>16-03-2020</td>\n",
              "      <td>Coronavirus Australia: Woolworths to give elde...</td>\n",
              "      <td>Positive</td>\n",
              "    </tr>\n",
              "    <tr>\n",
              "      <th>3</th>\n",
              "      <td>3802</td>\n",
              "      <td>48754</td>\n",
              "      <td>NaN</td>\n",
              "      <td>16-03-2020</td>\n",
              "      <td>My food stock is not the only one which is emp...</td>\n",
              "      <td>Positive</td>\n",
              "    </tr>\n",
              "    <tr>\n",
              "      <th>4</th>\n",
              "      <td>3803</td>\n",
              "      <td>48755</td>\n",
              "      <td>NaN</td>\n",
              "      <td>16-03-2020</td>\n",
              "      <td>Me, ready to go at supermarket during the #COV...</td>\n",
              "      <td>Extremely Negative</td>\n",
              "    </tr>\n",
              "  </tbody>\n",
              "</table>\n",
              "</div>"
            ],
            "text/plain": [
              "   UserName  ...           Sentiment\n",
              "0      3799  ...             Neutral\n",
              "1      3800  ...            Positive\n",
              "2      3801  ...            Positive\n",
              "3      3802  ...            Positive\n",
              "4      3803  ...  Extremely Negative\n",
              "\n",
              "[5 rows x 6 columns]"
            ]
          },
          "metadata": {},
          "execution_count": 204
        }
      ]
    },
    {
      "cell_type": "code",
      "metadata": {
        "id": "l1J--X7qel3Q",
        "colab": {
          "base_uri": "https://localhost:8080/",
          "height": 414
        },
        "outputId": "15fbb2e8-8865-41e1-f594-d6456f5a9b39"
      },
      "source": [
        "#retornando a exibir menos linhas\n",
        "pd.set_option('display.max_rows',10)\n",
        "\n",
        "# Verificando os campos nulos que podem comprometer a análise do dataset\n",
        "dados_covid = dados[['ScreenName','Location']]\n",
        "dados_covid[dados_covid['Location'].isna()]"
      ],
      "execution_count": null,
      "outputs": [
        {
          "output_type": "execute_result",
          "data": {
            "text/html": [
              "<div>\n",
              "<style scoped>\n",
              "    .dataframe tbody tr th:only-of-type {\n",
              "        vertical-align: middle;\n",
              "    }\n",
              "\n",
              "    .dataframe tbody tr th {\n",
              "        vertical-align: top;\n",
              "    }\n",
              "\n",
              "    .dataframe thead th {\n",
              "        text-align: right;\n",
              "    }\n",
              "</style>\n",
              "<table border=\"1\" class=\"dataframe\">\n",
              "  <thead>\n",
              "    <tr style=\"text-align: right;\">\n",
              "      <th></th>\n",
              "      <th>ScreenName</th>\n",
              "      <th>Location</th>\n",
              "    </tr>\n",
              "  </thead>\n",
              "  <tbody>\n",
              "    <tr>\n",
              "      <th>3</th>\n",
              "      <td>48754</td>\n",
              "      <td>NaN</td>\n",
              "    </tr>\n",
              "    <tr>\n",
              "      <th>4</th>\n",
              "      <td>48755</td>\n",
              "      <td>NaN</td>\n",
              "    </tr>\n",
              "    <tr>\n",
              "      <th>14</th>\n",
              "      <td>48765</td>\n",
              "      <td>NaN</td>\n",
              "    </tr>\n",
              "    <tr>\n",
              "      <th>22</th>\n",
              "      <td>48773</td>\n",
              "      <td>NaN</td>\n",
              "    </tr>\n",
              "    <tr>\n",
              "      <th>23</th>\n",
              "      <td>48774</td>\n",
              "      <td>NaN</td>\n",
              "    </tr>\n",
              "    <tr>\n",
              "      <th>...</th>\n",
              "      <td>...</td>\n",
              "      <td>...</td>\n",
              "    </tr>\n",
              "    <tr>\n",
              "      <th>41148</th>\n",
              "      <td>89899</td>\n",
              "      <td>NaN</td>\n",
              "    </tr>\n",
              "    <tr>\n",
              "      <th>41151</th>\n",
              "      <td>89902</td>\n",
              "      <td>NaN</td>\n",
              "    </tr>\n",
              "    <tr>\n",
              "      <th>41153</th>\n",
              "      <td>89904</td>\n",
              "      <td>NaN</td>\n",
              "    </tr>\n",
              "    <tr>\n",
              "      <th>41154</th>\n",
              "      <td>89905</td>\n",
              "      <td>NaN</td>\n",
              "    </tr>\n",
              "    <tr>\n",
              "      <th>41155</th>\n",
              "      <td>89906</td>\n",
              "      <td>NaN</td>\n",
              "    </tr>\n",
              "  </tbody>\n",
              "</table>\n",
              "<p>8590 rows × 2 columns</p>\n",
              "</div>"
            ],
            "text/plain": [
              "       ScreenName Location\n",
              "3           48754      NaN\n",
              "4           48755      NaN\n",
              "14          48765      NaN\n",
              "22          48773      NaN\n",
              "23          48774      NaN\n",
              "...           ...      ...\n",
              "41148       89899      NaN\n",
              "41151       89902      NaN\n",
              "41153       89904      NaN\n",
              "41154       89905      NaN\n",
              "41155       89906      NaN\n",
              "\n",
              "[8590 rows x 2 columns]"
            ]
          },
          "metadata": {},
          "execution_count": 205
        }
      ]
    },
    {
      "cell_type": "markdown",
      "metadata": {
        "id": "MoMjpgojlGeI"
      },
      "source": [
        "Percebe-se que algumas localidades aparece a palavra \"NaN\" ou seja, está vazia. Para evitar que esses valores possam comprometer nossa análise, iremos retira-los da base."
      ]
    },
    {
      "cell_type": "code",
      "metadata": {
        "id": "8cbZPMTaBWEf"
      },
      "source": [
        "#Sem localidade\n",
        "df_semnulos = dados[~dados['Location'].isna()]"
      ],
      "execution_count": null,
      "outputs": []
    },
    {
      "cell_type": "code",
      "metadata": {
        "id": "TD6WwMK4qeXX",
        "colab": {
          "base_uri": "https://localhost:8080/",
          "height": 372
        },
        "outputId": "39c79e99-ac6f-4aa3-fcac-21b793bba51b"
      },
      "source": [
        "# Visualizando esses dados graficamente:\n",
        "df_semnulos.Sentiment.value_counts().plot(kind='bar')"
      ],
      "execution_count": null,
      "outputs": [
        {
          "output_type": "execute_result",
          "data": {
            "text/plain": [
              "<matplotlib.axes._subplots.AxesSubplot at 0x7fc112f571d0>"
            ]
          },
          "metadata": {},
          "execution_count": 207
        },
        {
          "output_type": "display_data",
          "data": {
            "image/png": "[encoded data removed]",
            "text/plain": [
              "<Figure size 432x288 with 1 Axes>"
            ]
          },
          "metadata": {
            "needs_background": "light"
          }
        }
      ]
    },
    {
      "cell_type": "code",
      "metadata": {
        "id": "uZxBBB29B9Qw",
        "colab": {
          "base_uri": "https://localhost:8080/"
        },
        "outputId": "cb407166-a3ba-46aa-902e-de44aeaca44c"
      },
      "source": [
        "# Calculo em porcentagem\n",
        "(df_semnulos['Sentiment'].value_counts()/df_semnulos['Sentiment'].count())*100"
      ],
      "execution_count": null,
      "outputs": [
        {
          "output_type": "execute_result",
          "data": {
            "text/plain": [
              "Positive              27.973102\n",
              "Negative              23.837013\n",
              "Neutral               18.951700\n",
              "Extremely Positive    16.191237\n",
              "Extremely Negative    13.046949\n",
              "Name: Sentiment, dtype: float64"
            ]
          },
          "metadata": {},
          "execution_count": 208
        }
      ]
    },
    {
      "cell_type": "markdown",
      "metadata": {
        "id": "0urz3C8RC_Q-"
      },
      "source": [
        "As linhas do código tiveram a seguinte informação:\n",
        "* Porcentagem positiva de tweets : 27.9%\n",
        "* Porcentagem negativa de tweets : 23.8%\n",
        "* Porcentagem neutro de tweets : 18.9%\n",
        "* Porcentagem extremamente positiva de tweets : 16.1%\n",
        "* Porcentagem extremamente negativa de tweets : 13.0%\n"
      ]
    },
    {
      "cell_type": "code",
      "metadata": {
        "colab": {
          "base_uri": "https://localhost:8080/"
        },
        "id": "5Pr0Mj9fKVfM",
        "outputId": "798376cb-4fca-4d57-8579-cd2d618e9204"
      },
      "source": [
        "# Número de linhas da coluna ‘OriginalTweet’:\n",
        "df_semnulos.OriginalTweet.count()"
      ],
      "execution_count": null,
      "outputs": [
        {
          "output_type": "execute_result",
          "data": {
            "text/plain": [
              "32567"
            ]
          },
          "metadata": {},
          "execution_count": 209
        }
      ]
    },
    {
      "cell_type": "code",
      "metadata": {
        "id": "Q7kv0aiH4It6"
      },
      "source": [
        "dados.drop_duplicates(['OriginalTweet'], inplace=True)"
      ],
      "execution_count": null,
      "outputs": []
    },
    {
      "cell_type": "code",
      "metadata": {
        "colab": {
          "base_uri": "https://localhost:8080/"
        },
        "id": "ABvjsstMMy-d",
        "outputId": "4ed8a714-182d-4d08-c96e-d4538fd5bd2e"
      },
      "source": [
        "df_semnulos.OriginalTweet.count()"
      ],
      "execution_count": null,
      "outputs": [
        {
          "output_type": "execute_result",
          "data": {
            "text/plain": [
              "32567"
            ]
          },
          "metadata": {},
          "execution_count": 211
        }
      ]
    },
    {
      "cell_type": "code",
      "metadata": {
        "id": "SF77j4je63dM"
      },
      "source": [
        "tweets = df_semnulos['OriginalTweet']\n",
        "classes = df_semnulos['Sentiment']"
      ],
      "execution_count": null,
      "outputs": []
    },
    {
      "cell_type": "markdown",
      "metadata": {
        "id": "NTyF0KukChaM"
      },
      "source": [
        "Importamos a biblioteca NLTK (Natural Language Toolkit) que contém pacotes para fazer com que as máquinas entendam a linguagem humana. Para essa análise só utilizamos os pacotes Stopwords que filtra palavras e termos frequentes que não tem relevância nos dados e remover os caracteres indesejados.\n"
      ]
    },
    {
      "cell_type": "code",
      "metadata": {
        "colab": {
          "base_uri": "https://localhost:8080/"
        },
        "id": "O94tBsd5iNmT",
        "outputId": "a720a74a-e526-48c9-bdd5-0bb72144ccd8"
      },
      "source": [
        "import nltk\n",
        "import re\n",
        "nltk.download('stopwords')"
      ],
      "execution_count": null,
      "outputs": [
        {
          "output_type": "stream",
          "name": "stdout",
          "text": [
            "[nltk_data] Downloading package stopwords to /root/nltk_data...\n",
            "[nltk_data]   Package stopwords is already up-to-date!\n"
          ]
        },
        {
          "output_type": "execute_result",
          "data": {
            "text/plain": [
              "True"
            ]
          },
          "metadata": {},
          "execution_count": 213
        }
      ]
    },
    {
      "cell_type": "markdown",
      "metadata": {
        "id": "9wTg69VQBojv"
      },
      "source": [
        "Foi feito uma \"limpeza\" nos dados para deixá-los de uma maneira que a algoritimo pudesse entender, neste caso foi eliminado caracteres não alfanúmérico."
      ]
    },
    {
      "cell_type": "code",
      "metadata": {
        "id": "V9PB8ZD9jVai"
      },
      "source": [
        "def Preprocessing(instancia):\n",
        "    instancia = re.sub(r\"http\\S+\", \"\", instancia).lower().replace('.','').replace(';','').replace('-','').replace(':','').replace(')','')\n",
        "    stopwords = set(nltk.corpus.stopwords.words('english'))\n",
        "    palavras = [i for i in instancia.split() if not i in stopwords]\n",
        "    return (\" \".join(palavras))"
      ],
      "execution_count": null,
      "outputs": []
    },
    {
      "cell_type": "code",
      "metadata": {
        "id": "md0Fp8px0gGR"
      },
      "source": [
        "tweets = [Preprocessing(i) for i in tweets]"
      ],
      "execution_count": null,
      "outputs": []
    },
    {
      "cell_type": "markdown",
      "metadata": {
        "id": "erXewE1Pb4ab"
      },
      "source": [
        "Notar acima que foi retirado as informações de links que não contribui em nada para nossa análise. A lista também foi renomeada, de OriginalTweet para tweets, somente para fins de melhor entendimento."
      ]
    },
    {
      "cell_type": "code",
      "metadata": {
        "colab": {
          "base_uri": "https://localhost:8080/"
        },
        "id": "MtBlTNCE9Hrw",
        "outputId": "568d7457-d03f-42e3-e2b9-bc822ded9d97"
      },
      "source": [
        "tweets[:10]"
      ],
      "execution_count": null,
      "outputs": [
        {
          "output_type": "execute_result",
          "data": {
            "text/plain": [
              "['@menyrbie @phil_gahan @chrisitv',\n",
              " 'advice talk neighbours family exchange phone numbers create contact list phone numbers neighbours schools employer chemist gp set online shopping accounts poss adequate supplies regular meds order',\n",
              " 'coronavirus australia woolworths give elderly, disabled dedicated shopping hours amid covid19 outbreak',\n",
              " 'news region\\x92s first confirmed covid19 case came sullivan county last week, people flocked area stores purchase cleaning supplies, hand sanitizer, food, toilet paper goods, @tim_dodson reports',\n",
              " 'cashier grocery store sharing insights #covid_19 prove credibility commented \"i\\'m civics class know i\\'m talking about\"',\n",
              " 'supermarket today buy toilet paper #rebel #toiletpapercrisis #covid_19',\n",
              " 'due covid19 retail store classroom atlanta open walkin business classes next two weeks, beginning monday, march 16 continue process online phone orders normal! thank understanding!',\n",
              " 'corona prevention,we stop buy things cash use online payment methods corona spread notes also prefer online shopping home time fight covid 19? #govindia #indiafightscorona',\n",
              " 'month crowding supermarkets restaurants, however reducing hours closing malls means everyone using entrance dependent single supermarket #manila #lockdown #covid2019 #philippines',\n",
              " 'due covid19 situation, increased demand food products wait time may longer online orders, particularly beef share freezer packs thank patience time']"
            ]
          },
          "metadata": {},
          "execution_count": 216
        }
      ]
    },
    {
      "cell_type": "markdown",
      "metadata": {
        "id": "sXqWlDTgaFM0"
      },
      "source": [
        "Mostramos nesta curta análise que é possível fazer uso de ferramentas simples na linguagem de programação Python para realizar uma Análise de Sentimentos sobre a palavra covid no twitter ou em qualquer outra amostra. \n",
        "\n",
        "Notamos que o sentimento geral ficou equilibrado porém existem muitas outras formas e ferramentas de coleta de dados disponíveis em diversas bibliotecas que precisam ser muito estudada pois possui uma complexidade que vai muito além dessa análise.\n",
        "\n",
        "Obrigada pela leitura!\n",
        "\n",
        "Alanna Gonzaga \n",
        "\n",
        "Os códigos poderão ser visto melhor em minha página do GitHub https://github.com/AlannaGonzaga\n"
      ]
    },
    {
      "cell_type": "code",
      "metadata": {
        "id": "j-8-xg6VZGOd"
      },
      "source": [
        ""
      ],
      "execution_count": null,
      "outputs": []
    }
  ]
}